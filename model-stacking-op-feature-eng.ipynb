{
 "cells": [
  {
   "cell_type": "markdown",
   "id": "86d68a99",
   "metadata": {
    "papermill": {
     "duration": 0.063604,
     "end_time": "2022-02-10T20:32:06.330279",
     "exception": false,
     "start_time": "2022-02-10T20:32:06.266675",
     "status": "completed"
    },
    "tags": []
   },
   "source": [
   
   ]
  },
  {
   "cell_type": "markdown",
   "id": "e660683e",
   "metadata": {
    "execution": {
     "iopub.execute_input": "2022-02-10T17:03:52.362052Z",
     "iopub.status.busy": "2022-02-10T17:03:52.361224Z",
     "iopub.status.idle": "2022-02-10T17:03:52.369867Z",
     "shell.execute_reply": "2022-02-10T17:03:52.368672Z",
     "shell.execute_reply.started": "2022-02-10T17:03:52.361998Z"
    },
    "id": "Qgu35D3ApuIl",
    "papermill": {
     "duration": 0.061457,
     "end_time": "2022-02-10T20:32:06.453581",
     "exception": false,
     "start_time": "2022-02-10T20:32:06.392124",
     "status": "completed"
    }, 
    "tags": []
   },
   "source": [
    "# Importing Libraries"
   ]
  },
  {
   "cell_type": "code",
   "execution_count": 1,
   "id": "b4574a65",
   "metadata": {
    "execution": {
     "iopub.execute_input": "2022-02-10T20:32:06.578488Z",
     "iopub.status.busy": "2022-02-10T20:32:06.577255Z",
     "iopub.status.idle": "2022-02-10T20:32:10.290894Z",
     "shell.execute_reply": "2022-02-10T20:32:10.290113Z"
    },
    "papermill": {
     "duration": 3.777695,
     "end_time": "2022-02-10T20:32:10.291062",
     "exception": false,
     "start_time": "2022-02-10T20:32:06.513367",
     "status": "completed"
    },
    "tags": []
   },
   "outputs": [
    {
     "data": {
      "text/html": [
       "<style type='text/css'>\n",
       ".datatable table.frame { margin-bottom: 0; }\n",
       ".datatable table.frame thead { border-bottom: none; }\n",
       ".datatable table.frame tr.coltypes td {  color: #FFFFFF;  line-height: 6px;  padding: 0 0.5em;}\n",
       ".datatable .bool    { background: #DDDD99; }\n",
       ".datatable .object  { background: #565656; }\n",
       ".datatable .int     { background: #5D9E5D; }\n",
       ".datatable .float   { background: #4040CC; }\n",
       ".datatable .str     { background: #CC4040; }\n",
       ".datatable .time    { background: #40CC40; }\n",
       ".datatable .row_index {  background: var(--jp-border-color3);  border-right: 1px solid var(--jp-border-color0);  color: var(--jp-ui-font-color3);  font-size: 9px;}\n",
       ".datatable .frame tbody td { text-align: left; }\n",
       ".datatable .frame tr.coltypes .row_index {  background: var(--jp-border-color0);}\n",
       ".datatable th:nth-child(2) { padding-left: 12px; }\n",
       ".datatable .hellipsis {  color: var(--jp-cell-editor-border-color);}\n",
       ".datatable .vellipsis {  background: var(--jp-layout-color0);  color: var(--jp-cell-editor-border-color);}\n",
       ".datatable .na {  color: var(--jp-cell-editor-border-color);  font-size: 80%;}\n",
       ".datatable .sp {  opacity: 0.25;}\n",
       ".datatable .footer { font-size: 9px; }\n",
       ".datatable .frame_dimensions {  background: var(--jp-border-color3);  border-top: 1px solid var(--jp-border-color0);  color: var(--jp-ui-font-color3);  display: inline-block;  opacity: 0.6;  padding: 1px 10px 1px 5px;}\n",
       "</style>\n"
      ],
      "text/plain": [
       "<IPython.core.display.HTML object>"
      ]
     },
     "metadata": {},
     "output_type": "display_data"
    }
   ],
   "source": [
    "import pandas as pd\n",
    "import numpy as np\n",
    "from sklearn.metrics import roc_auc_score\n",
    "from xgboost import XGBClassifier\n",
    "import optuna\n",
    "from datetime import datetime\n",
    "from sklearn.impute import SimpleImputer\n",
    "from sklearn import preprocessing\n",
    "from sklearn import ensemble\n",
    "import seaborn as sns\n",
    "import lightgbm as lgb\n",
    "from sklearn import preprocessing\n",
    "import matplotlib.pyplot as plt\n",
    "import catboost as cb\n",
    "from sklearn.linear_model import LogisticRegression\n",
    "from imblearn.under_sampling import RandomUnderSampler\n",
    "import warnings\n",
    "warnings.filterwarnings(\"ignore\")\n"
   ]
  },
  {
   "cell_type": "markdown",
   "id": "033be2de",
   "metadata": {
    "papermill": {
     "duration": 0.059382,
     "end_time": "2022-02-10T20:32:10.409151",
     "exception": false,
     "start_time": "2022-02-10T20:32:10.349769",
     "status": "completed"
    },
    "tags": []
   },
   "source": [
    "# Loading Datasets"
   ]
  },
  {
   "cell_type": "code",
   "execution_count": 2,
   "id": "e55a681e",
   "metadata": {
    "execution": {
     "iopub.execute_input": "2022-02-10T20:32:10.534379Z",
     "iopub.status.busy": "2022-02-10T20:32:10.533232Z",
     "iopub.status.idle": "2022-02-10T20:32:17.448611Z",
     "shell.execute_reply": "2022-02-10T20:32:17.449235Z",
     "shell.execute_reply.started": "2022-02-10T17:03:52.372917Z"
    },
    "papermill": {
     "duration": 6.980818,
     "end_time": "2022-02-10T20:32:17.449453",
     "exception": false,
     "start_time": "2022-02-10T20:32:10.468635",
     "status": "completed"
    },
    "tags": []
   },
   "outputs": [],
   "source": [
    "# Here we have 2 different versions of train dataset with 2 different forms of 5 fold split (2 because of model stacking having 2 levels)\n",
    "df_stacking = pd.read_csv('../input/stacking-folds/train_folds (6).csv', parse_dates = True)\n",
    "df = pd.read_csv('../input/new-kflods-round2/train_folds (4).csv', parse_dates = True)\n",
    "df_test = pd.read_csv('../input/cascade-cup-22/test.csv', parse_dates = True)\n",
    "sample_submission = pd.read_csv('../input/cascade-cup-22/sample_submission.csv')"
   ]
  },
  {
   "cell_type": "markdown",
   "id": "11cc61f8",
   "metadata": {
    "papermill": {
     "duration": 0.058898,
     "end_time": "2022-02-10T20:32:17.566815",
     "exception": false,
     "start_time": "2022-02-10T20:32:17.507917",
     "status": "completed"
    },
    "tags": []
   },
   "source": [
    "# Working with the Data"
   ]
  },
  {
   "cell_type": "code",
   "execution_count": 3,
   "id": "0f5c33b2",
   "metadata": {
    "execution": {
     "iopub.execute_input": "2022-02-10T20:32:17.700627Z",
     "iopub.status.busy": "2022-02-10T20:32:17.699892Z",
     "iopub.status.idle": "2022-02-10T20:32:17.813091Z",
     "shell.execute_reply": "2022-02-10T20:32:17.812503Z",
     "shell.execute_reply.started": "2022-02-10T17:03:56.85523Z"
    },
    "papermill": {
     "duration": 0.18807,
     "end_time": "2022-02-10T20:32:17.813258",
     "exception": false,
     "start_time": "2022-02-10T20:32:17.625188",
     "status": "completed"
    },
    "tags": []
   },
   "outputs": [],
   "source": [
    "# Combining the second set of kfolds created to the main dataset\n",
    "df_stacking.rename(columns = {'kfold':'stacking_kfold'}, inplace = True)\n",
    "df_stacking_new = df_stacking.pop('stacking_kfold')\n",
    "df = pd.concat([df,df_stacking_new],axis = 'columns')"
   ]
  },
  {
   "cell_type": "code",
   "execution_count": 4,
   "id": "2a1db157",
   "metadata": {
    "execution": {
     "iopub.execute_input": "2022-02-10T20:32:17.991481Z",
     "iopub.status.busy": "2022-02-10T20:32:17.990746Z",
     "iopub.status.idle": "2022-02-10T20:32:26.108892Z",
     "shell.execute_reply": "2022-02-10T20:32:26.108201Z",
     "shell.execute_reply.started": "2022-02-10T17:03:56.985776Z"
    },
    "id": "UjzbUWMPpuIr",
    "papermill": {
     "duration": 8.23647,
     "end_time": "2022-02-10T20:32:26.109070",
     "exception": false,
     "start_time": "2022-02-10T20:32:17.872600",
     "status": "completed"
    },
    "tags": []
   },
   "outputs": [],
   "source": [
    "# Splitting the time features given originally to time and date\n",
    "df[['order_date','order_time']] = (df['order_time'].str.split(' ', expand = True))\n",
    "df[['allot_date','allot_time']] = (df['allot_time'].str.split(' ', expand = True))\n",
    "df[['accept_date','accept_time']] = (df['accept_time'].str.split(' ', expand = True))\n",
    "df[['pickup_date','pickup_time']] = (df['pickup_time'].str.split(' ', expand = True))\n",
    "df[['delivered_date','delivered_time']] = (df['delivered_time'].str.split(' ', expand = True))\n",
    "df_test[['order_date','order_time']] = (df_test['order_time'].str.split(' ', expand = True))\n",
    "df_test[['allot_date','allot_time']] = (df_test['allot_time'].str.split(' ', expand = True))\n",
    "df_test[['accept_date','accept_time']] = (df_test['accept_time'].str.split(' ', expand = True))"
   ]
  },
  {
   "cell_type": "code",
   "execution_count": 5,
   "id": "beb96992",
   "metadata": {
    "execution": {
     "iopub.execute_input": "2022-02-10T20:32:26.233421Z",
     "iopub.status.busy": "2022-02-10T20:32:26.232718Z",
     "iopub.status.idle": "2022-02-10T20:32:26.988269Z",
     "shell.execute_reply": "2022-02-10T20:32:26.987648Z",
     "shell.execute_reply.started": "2022-02-10T17:04:05.732434Z"
    },
    "id": "N38aprDlpuIs",
    "papermill": {
     "duration": 0.81886,
     "end_time": "2022-02-10T20:32:26.988429",
     "exception": false,
     "start_time": "2022-02-10T20:32:26.169569",
     "status": "completed"
    },
    "tags": []
   },
   "outputs": [],
   "source": [
    "# Dropping the data leakage features and some other redundant features\n",
    "df = df.drop(['delivered_time','pickup_time'],axis = 'columns')\n",
    "df = df.drop(['accept_date','allot_date','pickup_date','delivered_date','cancelled_time'],axis = 'columns')\n",
    "df_test = df_test.drop(['accept_date','allot_date'],axis = 'columns')"
   ]
  },
  {
   "cell_type": "code",
   "execution_count": 6,
   "id": "1f033d79",
   "metadata": {
    "execution": {
     "iopub.execute_input": "2022-02-10T20:32:27.108601Z",
     "iopub.status.busy": "2022-02-10T20:32:27.107929Z",
     "iopub.status.idle": "2022-02-10T20:32:27.113196Z",
     "shell.execute_reply": "2022-02-10T20:32:27.112619Z",
     "shell.execute_reply.started": "2022-02-10T17:04:06.597803Z"
    },
    "id": "nsjt-hdypuIs",
    "papermill": {
     "duration": 0.06793,
     "end_time": "2022-02-10T20:32:27.113350",
     "exception": false,
     "start_time": "2022-02-10T20:32:27.045420",
     "status": "completed"
    },
    "tags": []
   },
   "outputs": [],
   "source": [
    "# Filling null values in reassigned_order with 0 as null values here represent the fact that order was not a reassigned order\n",
    "df['reassigned_order'].fillna(value = 0,inplace = True)\n",
    "df_test['reassigned_order'].fillna(value = 0,inplace = True)"
   ]
  },
  {
   "cell_type": "code",
   "execution_count": 7,
   "id": "6544002d",
   "metadata": {
    "execution": {
     "iopub.execute_input": "2022-02-10T20:32:27.266473Z",
     "iopub.status.busy": "2022-02-10T20:32:27.252229Z",
     "iopub.status.idle": "2022-02-10T20:32:27.272726Z",
     "shell.execute_reply": "2022-02-10T20:32:27.272086Z",
     "shell.execute_reply.started": "2022-02-10T17:04:06.607719Z"
    },
    "id": "ylKk0BQcpuIu",
    "papermill": {
     "duration": 0.102687,
     "end_time": "2022-02-10T20:32:27.272884",
     "exception": false,
     "start_time": "2022-02-10T20:32:27.170197",
     "status": "completed"
    },
    "tags": []
   },
   "outputs": [],
   "source": [
    "# Filling null values in reassignment_method with null as null values here represent the fact that order was not a reassigned order\n",
    "df['reassignment_method'].fillna(value = 'null',inplace = True)\n",
    "df_test['reassignment_method'].fillna(value = 'null',inplace = True)"
   ]
  },
  {
   "cell_type": "code",
   "execution_count": 8,
   "id": "95082451",
   "metadata": {
    "execution": {
     "iopub.execute_input": "2022-02-10T20:32:27.431316Z",
     "iopub.status.busy": "2022-02-10T20:32:27.428322Z",
     "iopub.status.idle": "2022-02-10T20:32:27.434723Z",
     "shell.execute_reply": "2022-02-10T20:32:27.434024Z",
     "shell.execute_reply.started": "2022-02-10T17:04:06.656791Z"
    },
    "papermill": {
     "duration": 0.105207,
     "end_time": "2022-02-10T20:32:27.434881",
     "exception": false,
     "start_time": "2022-02-10T20:32:27.329674",
     "status": "completed"
    },
    "tags": []
   },
   "outputs": [],
   "source": [
    "# Filling null values in reassignment_reason with null as null values here represent the fact that order was not a reassigned order\n",
    "df['reassignment_reason'].fillna(value = 'null',inplace = True)\n",
    "df_test['reassignment_reason'].fillna(value = 'null',inplace = True)"
   ]
  },
  {
   "cell_type": "code",
   "execution_count": 9,
   "id": "6f13290a",
   "metadata": {
    "execution": {
     "iopub.execute_input": "2022-02-10T20:32:27.597692Z",
     "iopub.status.busy": "2022-02-10T20:32:27.572694Z",
     "iopub.status.idle": "2022-02-10T20:32:27.680720Z",
     "shell.execute_reply": "2022-02-10T20:32:27.680029Z",
     "shell.execute_reply.started": "2022-02-10T17:04:06.699781Z"
    },
    "papermill": {
     "duration": 0.188308,
     "end_time": "2022-02-10T20:32:27.680881",
     "exception": false,
     "start_time": "2022-02-10T20:32:27.492573",
     "status": "completed"
    },
    "tags": []
   },
   "outputs": [],
   "source": [
    "# Label encoding reassignment_reason using map function\n",
    "df['reassignment_reason'] = df['reassignment_reason'].map({'null':0,'Auto Reassignment basis Inaction. coreengine.tasks.repush_order_to_aa_bucket':1,'Reassignment Request from SE portal.':2,'Reassign':3})\n",
    "df_test['reassignment_reason'] = df_test['reassignment_reason'].map({'null':0,'Auto Reassignment basis Inaction. coreengine.tasks.repush_order_to_aa_bucket':1,'Reassignment Request from SE portal.':2,'Reassign':3})"
   ]
  },
  {
   "cell_type": "code",
   "execution_count": 10,
   "id": "e4a7feab",
   "metadata": {
    "execution": {
     "iopub.execute_input": "2022-02-10T20:32:27.850218Z",
     "iopub.status.busy": "2022-02-10T20:32:27.849111Z",
     "iopub.status.idle": "2022-02-10T20:32:27.872593Z",
     "shell.execute_reply": "2022-02-10T20:32:27.872010Z",
     "shell.execute_reply.started": "2022-02-10T17:04:06.830456Z"
    },
    "id": "xrHtbNYrpuIv",
    "papermill": {
     "duration": 0.134164,
     "end_time": "2022-02-10T20:32:27.872732",
     "exception": false,
     "start_time": "2022-02-10T20:32:27.738568",
     "status": "completed"
    },
    "tags": []
   },
   "outputs": [],
   "source": [
    "# Creating a new feature to mark the rows where there were null values in accept_time although this feature turned out to be not so important\n",
    "df['not_accepted'] = np.where(df['accept_time'].isna() ,1,0)\n",
    "df_test['not_accepted'] = np.where(df_test['accept_time'].isna() ,1,0)"
   ]
  },
  {
   "cell_type": "code",
   "execution_count": 11,
   "id": "b7231ecd",
   "metadata": {
    "execution": {
     "iopub.execute_input": "2022-02-10T20:32:27.995362Z",
     "iopub.status.busy": "2022-02-10T20:32:27.994669Z",
     "iopub.status.idle": "2022-02-10T20:33:58.478224Z",
     "shell.execute_reply": "2022-02-10T20:33:58.478864Z",
     "shell.execute_reply.started": "2022-02-10T17:04:06.91127Z"
    },
    "id": "4CmnJ1RnpuIv",
    "papermill": {
     "duration": 90.549318,
     "end_time": "2022-02-10T20:33:58.479077",
     "exception": false,
     "start_time": "2022-02-10T20:32:27.929759",
     "status": "completed"
    },
    "tags": []
   },
   "outputs": [],
   "source": [
    "#converting to datetime form (not sure if this was necessary or not)\n",
    "df['order_time'] = pd.to_datetime(df['order_time'])\n",
    "df['order_date'] = pd.to_datetime(df['order_date'])\n",
    "df['allot_time'] = pd.to_datetime(df['allot_time'])\n",
    "df['accept_time'] = pd.to_datetime(df['accept_time'])\n",
    "\n",
    "df_test['order_time'] = pd.to_datetime(df_test['order_time'])\n",
    "df_test['order_date'] = pd.to_datetime(df_test['order_date'])\n",
    "df_test['allot_time'] = pd.to_datetime(df_test['allot_time'])\n",
    "df_test['accept_time'] = pd.to_datetime(df_test['accept_time'])"
   ]
  },
  {
   "cell_type": "code",
   "execution_count": 12,
   "id": "8341aafc",
   "metadata": {
    "execution": {
     "iopub.execute_input": "2022-02-10T20:33:58.601544Z",
     "iopub.status.busy": "2022-02-10T20:33:58.600476Z",
     "iopub.status.idle": "2022-02-10T20:33:58.799716Z",
     "shell.execute_reply": "2022-02-10T20:33:58.800253Z",
     "shell.execute_reply.started": "2022-02-10T17:05:36.793168Z"
    },
    "id": "ItDuuHw3puIv",
    "papermill": {
     "duration": 0.263819,
     "end_time": "2022-02-10T20:33:58.800455",
     "exception": false,
     "start_time": "2022-02-10T20:33:58.536636",
     "status": "completed"
    },
    "tags": []
   },
   "outputs": [],
   "source": [
    "# Creating new feature which tells us the day of the order\n",
    "df['day'] = df['order_date'].dt.day_name()\n",
    "df_test['day'] = df_test['order_date'].dt.day_name()"
   ]
  },
  {
   "cell_type": "code",
   "execution_count": 13,
   "id": "8d81f288",
   "metadata": {
    "execution": {
     "iopub.execute_input": "2022-02-10T20:33:58.923817Z",
     "iopub.status.busy": "2022-02-10T20:33:58.922517Z",
     "iopub.status.idle": "2022-02-10T20:33:58.929929Z",
     "shell.execute_reply": "2022-02-10T20:33:58.929353Z",
     "shell.execute_reply.started": "2022-02-10T17:05:37.006853Z"
    },
    "id": "Bv-xHtbslYa8",
    "papermill": {
     "duration": 0.072031,
     "end_time": "2022-02-10T20:33:58.930089",
     "exception": false,
     "start_time": "2022-02-10T20:33:58.858058",
     "status": "completed"
    },
    "tags": []
   },
   "outputs": [],
   "source": [
    "# Creating a new feature to mark the rows where there were null values in lifetime_order_count although this feature turned out to be not so important\n",
    "df['lifetime_order_count_null'] = np.where(df['lifetime_order_count'].isna() ,1,0)\n",
    "df_test['lifetime_order_count_null'] = np.where(df_test['lifetime_order_count'].isna() ,1,0)"
   ]
  },
  {
   "cell_type": "markdown",
   "id": "9413b28c",
   "metadata": {
    "papermill": {
     "duration": 0.059136,
     "end_time": "2022-02-10T20:33:59.048317",
     "exception": false,
     "start_time": "2022-02-10T20:33:58.989181",
     "status": "completed"
    },
    "tags": []
   },
   "source": [
    "## Dealing with Null values"
   ]
  },
  {
   "cell_type": "code",
   "execution_count": 14,
   "id": "48a54dc3",
   "metadata": {
    "execution": {
     "iopub.execute_input": "2022-02-10T20:33:59.167563Z",
     "iopub.status.busy": "2022-02-10T20:33:59.166549Z",
     "iopub.status.idle": "2022-02-10T20:33:59.199345Z",
     "shell.execute_reply": "2022-02-10T20:33:59.199933Z",
     "shell.execute_reply.started": "2022-02-10T17:05:37.021535Z"
    },
    "id": "b7NZC4b6B9Di",
    "papermill": {
     "duration": 0.09455,
     "end_time": "2022-02-10T20:33:59.200114",
     "exception": false,
     "start_time": "2022-02-10T20:33:59.105564",
     "status": "completed"
    },
    "tags": []
   },
   "outputs": [],
   "source": [
    "# While initially going through the data I found some rows where I was able to manually impute some null values\n",
    "df.loc[df['rider_id']==12549,'delivered_orders'] = df.loc[df['rider_id']==12549,'delivered_orders'].fillna(value = 0)\n",
    "df_test.loc[df_test['rider_id']==12549,'delivered_orders'] = df_test.loc[df_test['rider_id']==12549,'delivered_orders'].fillna(value = 0)\n",
    "df.loc[df['rider_id']==14345,'delivered_orders'] = df.loc[df['rider_id']==14345,'delivered_orders'].fillna(value = 0)\n",
    "df.loc[df['rider_id']==16749,'delivered_orders'] = df.loc[df['rider_id']==16749,'delivered_orders'].fillna(value = 0)\n",
    "df.loc[df['order_id']==343888,'alloted_orders'] = df.loc[df['order_id']==343888,'alloted_orders'].fillna(value = 0)"
   ]
  },
  {
   "cell_type": "code",
   "execution_count": 15,
   "id": "f0ac136a",
   "metadata": {
    "execution": {
     "iopub.execute_input": "2022-02-10T20:33:59.318882Z",
     "iopub.status.busy": "2022-02-10T20:33:59.317903Z",
     "iopub.status.idle": "2022-02-10T20:33:59.436471Z",
     "shell.execute_reply": "2022-02-10T20:33:59.435779Z",
     "shell.execute_reply.started": "2022-02-10T17:05:37.054389Z"
    },
    "papermill": {
     "duration": 0.179453,
     "end_time": "2022-02-10T20:33:59.436617",
     "exception": false,
     "start_time": "2022-02-10T20:33:59.257164",
     "status": "completed"
    },
    "tags": []
   },
   "outputs": [],
   "source": [
    "# Since I planned to use tree based models and I noticed certain groups of features based on null values row wise, I marked them in this manner\n",
    "df.loc[(df['lifetime_order_count'].isna() == True) & (df['alloted_orders'].isna() == True) & (df['delivered_orders'].isna() == True) & (df['session_time'].isna() == True),['lifetime_order_count','alloted_orders','delivered_orders','undelivered_orders']] = df.loc[(df['lifetime_order_count'].isna() == True) & (df['alloted_orders'].isna() == True) & (df['delivered_orders'].isna() == True) & (df['session_time'].isna() == True),['lifetime_order_count','alloted_orders','delivered_orders','undelivered_orders']].fillna(value = -1000)\n",
    "df_test.loc[(df_test['lifetime_order_count'].isna() == True) & (df_test['alloted_orders'].isna() == True) & (df_test['delivered_orders'].isna() == True) & (df_test['session_time'].isna() == True),['lifetime_order_count','alloted_orders','delivered_orders','undelivered_orders']] = df_test.loc[(df_test['lifetime_order_count'].isna() == True) & (df_test['alloted_orders'].isna() == True) & (df_test['delivered_orders'].isna() == True) & (df_test['session_time'].isna() == True),['lifetime_order_count','alloted_orders','delivered_orders','undelivered_orders']].fillna(value = -1000)"
   ]
  },
  {
   "cell_type": "code",
   "execution_count": 16,
   "id": "cdd85ad6",
   "metadata": {
    "execution": {
     "iopub.execute_input": "2022-02-10T20:33:59.555676Z",
     "iopub.status.busy": "2022-02-10T20:33:59.554609Z",
     "iopub.status.idle": "2022-02-10T20:33:59.594985Z",
     "shell.execute_reply": "2022-02-10T20:33:59.595505Z",
     "shell.execute_reply.started": "2022-02-10T17:05:37.173572Z"
    },
    "id": "vx8v6Y7sTYJ5",
    "papermill": {
     "duration": 0.101929,
     "end_time": "2022-02-10T20:33:59.595686",
     "exception": false,
     "start_time": "2022-02-10T20:33:59.493757",
     "status": "completed"
    },
    "tags": []
   },
   "outputs": [],
   "source": [
    "# Since I planned to use tree based models and I noticed certain groups of features based on null values row wise, I marked them in this manner\n",
    "df.loc[(df['lifetime_order_count'].isna() == True) & (df['alloted_orders'].isna() == True) & (df['delivered_orders'].isna() == True),['lifetime_order_count','alloted_orders','delivered_orders','undelivered_orders']] = df.loc[(df['lifetime_order_count'].isna() == True) & (df['alloted_orders'].isna() == True) & (df['delivered_orders'].isna() == True),['lifetime_order_count','alloted_orders','delivered_orders','undelivered_orders']].fillna(value = -999)\n",
    "df_test.loc[(df_test['lifetime_order_count'].isna() == True) & (df_test['alloted_orders'].isna() == True) & (df_test['delivered_orders'].isna() == True),['lifetime_order_count','alloted_orders','delivered_orders','undelivered_orders']]= df_test.loc[(df_test['lifetime_order_count'].isna() == True) & (df_test['alloted_orders'].isna() == True) & (df_test['delivered_orders'].isna() == True),['lifetime_order_count','alloted_orders','delivered_orders','undelivered_orders']].fillna(value = -999)"
   ]
  },
  {
   "cell_type": "code",
   "execution_count": 17,
   "id": "a5e52d22",
   "metadata": {
    "execution": {
     "iopub.execute_input": "2022-02-10T20:33:59.713829Z",
     "iopub.status.busy": "2022-02-10T20:33:59.712869Z",
     "iopub.status.idle": "2022-02-10T20:33:59.738123Z",
     "shell.execute_reply": "2022-02-10T20:33:59.738642Z",
     "shell.execute_reply.started": "2022-02-10T17:05:37.22099Z"
    },
    "papermill": {
     "duration": 0.086025,
     "end_time": "2022-02-10T20:33:59.738812",
     "exception": false,
     "start_time": "2022-02-10T20:33:59.652787",
     "status": "completed"
    },
    "tags": []
   },
   "outputs": [],
   "source": [
    "# Since I planned to use tree based models and I noticed certain groups of features based on null values row wise, I marked them in this manner\n",
    "df.loc[df['lifetime_order_count'].isna() == True, 'delivered_orders'] = df.loc[df['lifetime_order_count'].isna() == True, 'delivered_orders'].fillna(value = 0)\n",
    "df.loc[df['lifetime_order_count'].isna() == True, 'lifetime_order_count'] = df.loc[df['lifetime_order_count'].isna() == True, 'lifetime_order_count'].fillna(value = -998)\n",
    "df_test.loc[df_test['lifetime_order_count'].isna() == True, 'delivered_orders'] = df_test.loc[df_test['lifetime_order_count'].isna() == True, 'delivered_orders'].fillna(value = 0)\n",
    "df_test.loc[df_test['lifetime_order_count'].isna() == True, 'lifetime_order_count'] = df_test.loc[df_test['lifetime_order_count'].isna() == True, 'lifetime_order_count'].fillna(value = -998)"
   ]
  },
  {
   "cell_type": "code",
   "execution_count": 18,
   "id": "67430eb5",
   "metadata": {
    "execution": {
     "iopub.execute_input": "2022-02-10T20:33:59.856664Z",
     "iopub.status.busy": "2022-02-10T20:33:59.855694Z",
     "iopub.status.idle": "2022-02-10T20:33:59.987482Z",
     "shell.execute_reply": "2022-02-10T20:33:59.988070Z",
     "shell.execute_reply.started": "2022-02-10T17:05:37.249331Z"
    },
    "papermill": {
     "duration": 0.19237,
     "end_time": "2022-02-10T20:33:59.988248",
     "exception": false,
     "start_time": "2022-02-10T20:33:59.795878",
     "status": "completed"
    },
    "tags": []
   },
   "outputs": [],
   "source": [
    "# Not sure how useful this imputation trick was but used it anyway, a combination of groupy and transform\n",
    "for val in ['alloted_orders','delivered_orders','session_time']:\n",
    "    df[val] = df[val].fillna(df.groupby('rider_id')[val].transform('median'))\n",
    "    df_test[val] = df_test[val].fillna(df_test.groupby('rider_id')[val].transform('median'))"
   ]
  },
  {
   "cell_type": "code",
   "execution_count": 19,
   "id": "50944c29",
   "metadata": {
    "execution": {
     "iopub.execute_input": "2022-02-10T20:34:00.107747Z",
     "iopub.status.busy": "2022-02-10T20:34:00.106761Z",
     "iopub.status.idle": "2022-02-10T20:34:00.438016Z",
     "shell.execute_reply": "2022-02-10T20:34:00.438649Z",
     "shell.execute_reply.started": "2022-02-10T17:05:37.374174Z"
    },
    "id": "f-r0BZj6dqj-",
    "papermill": {
     "duration": 0.393361,
     "end_time": "2022-02-10T20:34:00.438826",
     "exception": false,
     "start_time": "2022-02-10T20:34:00.045465",
     "status": "completed"
    },
    "tags": []
   },
   "outputs": [],
   "source": [
    "# Simple Imputer with median strategy\n",
    "cols_log = ['alloted_orders','delivered_orders','session_time']\n",
    "imputer_log = SimpleImputer(strategy = 'median')\n",
    "train_iterimp = imputer_log.fit_transform(df[cols_log])\n",
    "test_iterimp = imputer_log.transform(df_test[cols_log])\n",
    "train_iterimp = pd.DataFrame(train_iterimp,columns = cols_log)\n",
    "test_iterimp = pd.DataFrame(test_iterimp,columns = cols_log)\n",
    "df = df.drop(cols_log, axis = 'columns')\n",
    "df = pd.concat([df,train_iterimp],axis = 'columns')\n",
    "df_test = df_test.drop(cols_log, axis = 'columns')\n",
    "df_test = pd.concat([df_test,test_iterimp],axis = 'columns')"
   ]
  },
  {
   "cell_type": "code",
   "execution_count": 20,
   "id": "87e639ad",
   "metadata": {
    "execution": {
     "iopub.execute_input": "2022-02-10T20:34:00.561312Z",
     "iopub.status.busy": "2022-02-10T20:34:00.560624Z",
     "iopub.status.idle": "2022-02-10T20:34:00.602062Z",
     "shell.execute_reply": "2022-02-10T20:34:00.602585Z",
     "shell.execute_reply.started": "2022-02-10T17:05:37.713062Z"
    },
    "id": "6FxfzrEMdqj-",
    "papermill": {
     "duration": 0.106587,
     "end_time": "2022-02-10T20:34:00.602774",
     "exception": false,
     "start_time": "2022-02-10T20:34:00.496187",
     "status": "completed"
    },
    "tags": []
   },
   "outputs": [],
   "source": [
    "# Since undelivered_orders = alloted_orders - delivered_orders, I filled the null values in this manner for rows not part of certain defined groups\n",
    "df.loc[(df['delivered_orders']!=-999)&(df['delivered_orders']!=-1000),'undelivered_orders'] = df.loc[(df['delivered_orders']!=-999)&(df['delivered_orders']!=-1000),'alloted_orders']-df.loc[(df['delivered_orders']!=-999)&(df['delivered_orders']!=-1000),'delivered_orders']\n",
    "df_test.loc[(df_test['delivered_orders']!=-999)&(df_test['delivered_orders']!=-1000),'undelivered_orders'] = df_test.loc[(df_test['delivered_orders']!=-999)&(df_test['delivered_orders']!=-1000),'alloted_orders']- df_test.loc[(df_test['delivered_orders']!=-999)&(df_test['delivered_orders']!=-1000),'delivered_orders']"
   ]
  },
  {
   "cell_type": "code",
   "execution_count": 21,
   "id": "dde841e8",
   "metadata": {
    "execution": {
     "iopub.execute_input": "2022-02-10T20:34:00.722539Z",
     "iopub.status.busy": "2022-02-10T20:34:00.721757Z",
     "iopub.status.idle": "2022-02-10T20:34:00.730869Z",
     "shell.execute_reply": "2022-02-10T20:34:00.730319Z",
     "shell.execute_reply.started": "2022-02-10T17:05:37.759769Z"
    },
    "id": "Jg4q-HfEdqj_",
    "papermill": {
     "duration": 0.069156,
     "end_time": "2022-02-10T20:34:00.731017",
     "exception": false,
     "start_time": "2022-02-10T20:34:00.661861",
     "status": "completed"
    },
    "tags": []
   },
   "outputs": [],
   "source": [
    "# Created a new feature but I dont think this was very useful\n",
    "df['total_distance'] = df['first_mile_distance']+df['last_mile_distance']\n",
    "df_test['total_distance'] = df_test['first_mile_distance']+df_test['last_mile_distance']"
   ]
  },
  {
   "cell_type": "code",
   "execution_count": 22,
   "id": "495df618",
   "metadata": {
    "execution": {
     "iopub.execute_input": "2022-02-10T20:34:00.852469Z",
     "iopub.status.busy": "2022-02-10T20:34:00.851736Z",
     "iopub.status.idle": "2022-02-10T20:34:00.910033Z",
     "shell.execute_reply": "2022-02-10T20:34:00.909407Z",
     "shell.execute_reply.started": "2022-02-10T17:05:37.768938Z"
    },
    "id": "0KD-ogxTpuIw",
    "papermill": {
     "duration": 0.122589,
     "end_time": "2022-02-10T20:34:00.910224",
     "exception": false,
     "start_time": "2022-02-10T20:34:00.787635",
     "status": "completed"
    },
    "tags": []
   },
   "outputs": [],
   "source": [
    "# My code is not very organized.... anyway here I am creating a new feature from the datetime features \n",
    "hours = df['order_time'].dt.hour\n",
    "df['hours'] = hours\n",
    "hours_test = df_test['order_time'].dt.hour\n",
    "df_test['hours'] = hours_test"
   ]
  },
  {
   "cell_type": "code",
   "execution_count": 23,
   "id": "8b7f848d",
   "metadata": {
    "execution": {
     "iopub.execute_input": "2022-02-10T20:34:01.030005Z",
     "iopub.status.busy": "2022-02-10T20:34:01.029268Z",
     "iopub.status.idle": "2022-02-10T20:34:01.087195Z",
     "shell.execute_reply": "2022-02-10T20:34:01.086613Z",
     "shell.execute_reply.started": "2022-02-10T17:05:37.836579Z"
    },
    "papermill": {
     "duration": 0.11964,
     "end_time": "2022-02-10T20:34:01.087343",
     "exception": false,
     "start_time": "2022-02-10T20:34:00.967703",
     "status": "completed"
    },
    "tags": []
   },
   "outputs": [],
   "source": [
    "# and again\n",
    "df['month'] = df['order_date'].dt.month\n",
    "df_test['month'] = df_test['order_date'].dt.month"
   ]
  },
  {
   "cell_type": "code",
   "execution_count": 24,
   "id": "c4351598",
   "metadata": {
    "execution": {
     "iopub.execute_input": "2022-02-10T20:34:01.209245Z",
     "iopub.status.busy": "2022-02-10T20:34:01.208062Z",
     "iopub.status.idle": "2022-02-10T20:34:01.593346Z",
     "shell.execute_reply": "2022-02-10T20:34:01.592627Z",
     "shell.execute_reply.started": "2022-02-10T17:05:37.898916Z"
    },
    "id": "qHRMshooaDdv",
    "papermill": {
     "duration": 0.448403,
     "end_time": "2022-02-10T20:34:01.593488",
     "exception": false,
     "start_time": "2022-02-10T20:34:01.145085",
     "status": "completed"
    },
    "tags": []
   },
   "outputs": [],
   "source": [
    "# and again....\n",
    "df['is_weekend'] = df['day'].apply(lambda x : 1 if x in ['Saturday','Sunday'] else 0)\n",
    "df_test['is_weekend'] = df_test['day'].apply(lambda x : 1 if x in ['Saturday','Sunday'] else 0)"
   ]
  },
  {
   "cell_type": "code",
   "execution_count": 25,
   "id": "bb8bf931",
   "metadata": {
    "execution": {
     "iopub.execute_input": "2022-02-10T20:34:01.716396Z",
     "iopub.status.busy": "2022-02-10T20:34:01.715705Z",
     "iopub.status.idle": "2022-02-10T20:34:47.603523Z",
     "shell.execute_reply": "2022-02-10T20:34:47.604298Z",
     "shell.execute_reply.started": "2022-02-10T17:05:38.284778Z"
    },
    "papermill": {
     "duration": 45.954329,
     "end_time": "2022-02-10T20:34:47.604540",
     "exception": false,
     "start_time": "2022-02-10T20:34:01.650211",
     "status": "completed"
    },
    "tags": []
   },
   "outputs": [],
   "source": [
    "# Features to calculate allotment and acceptance delay (there were some negative values too...clearly an error and these were marked using a separate feature)\n",
    "allotment_delay = []\n",
    "acceptance_delay = []\n",
    "for i in range(len(df.index)):\n",
    "    allotment_delay.append((df.loc[i,'allot_time'] - df.loc[i,'order_time']).total_seconds())\n",
    "df['allotment_delay'] = allotment_delay\n",
    "for i in range(len(df.index)):\n",
    "    acceptance_delay.append((df.loc[i,'accept_time'] - df.loc[i,'allot_time']).total_seconds())\n",
    "df['acceptance_delay'] = acceptance_delay"
   ]
  },
  {
   "cell_type": "code",
   "execution_count": 26,
   "id": "904c0893",
   "metadata": {
    "execution": {
     "iopub.execute_input": "2022-02-10T20:34:47.739402Z",
     "iopub.status.busy": "2022-02-10T20:34:47.738495Z",
     "iopub.status.idle": "2022-02-10T20:35:02.516581Z",
     "shell.execute_reply": "2022-02-10T20:35:02.515988Z",
     "shell.execute_reply.started": "2022-02-10T17:06:24.270562Z"
    },
    "papermill": {
     "duration": 14.854947,
     "end_time": "2022-02-10T20:35:02.516738",
     "exception": false,
     "start_time": "2022-02-10T20:34:47.661791",
     "status": "completed"
    },
    "tags": []
   },
   "outputs": [],
   "source": [
    "# Features to calculate allotment and acceptance delay (there were some negative values too...clearly an error and these were marked using a separate feature)\n",
    "allotment_delay = []\n",
    "acceptance_delay = []\n",
    "for i in range(len(df_test.index)):\n",
    "    allotment_delay.append((df_test.loc[i,'allot_time'] - df_test.loc[i,'order_time']).total_seconds())\n",
    "df_test['allotment_delay'] = allotment_delay\n",
    "for i in range(len(df_test.index)):\n",
    "    acceptance_delay.append((df_test.loc[i,'accept_time'] - df_test.loc[i,'allot_time']).total_seconds())\n",
    "df_test['acceptance_delay'] = acceptance_delay"
   ]
  },
  {
   "cell_type": "code",
   "execution_count": 27,
   "id": "a4699c5a",
   "metadata": {
    "execution": {
     "iopub.execute_input": "2022-02-10T20:35:02.643021Z",
     "iopub.status.busy": "2022-02-10T20:35:02.641896Z",
     "iopub.status.idle": "2022-02-10T20:35:02.651613Z",
     "shell.execute_reply": "2022-02-10T20:35:02.652115Z",
     "shell.execute_reply.started": "2022-02-10T17:06:39.011458Z"
    },
    "papermill": {
     "duration": 0.070239,
     "end_time": "2022-02-10T20:35:02.652308",
     "exception": false,
     "start_time": "2022-02-10T20:35:02.582069",
     "status": "completed"
    },
    "tags": []
   },
   "outputs": [],
   "source": [
    "# Feature to mark the negative values seen in acceptance_delay\n",
    "df['ad_neg'] = np.where(df['acceptance_delay']<0 ,1,0)\n",
    "df_test['ad_neg'] = np.where(df_test['acceptance_delay']<0 ,1,0)"
   ]
  },
  {
   "cell_type": "code",
   "execution_count": 28,
   "id": "dfeee60e",
   "metadata": {
    "execution": {
     "iopub.execute_input": "2022-02-10T20:35:02.777746Z",
     "iopub.status.busy": "2022-02-10T20:35:02.776764Z",
     "iopub.status.idle": "2022-02-10T20:35:03.118812Z",
     "shell.execute_reply": "2022-02-10T20:35:03.118176Z",
     "shell.execute_reply.started": "2022-02-10T17:06:39.021989Z"
    },
    "papermill": {
     "duration": 0.408661,
     "end_time": "2022-02-10T20:35:03.118997",
     "exception": false,
     "start_time": "2022-02-10T20:35:02.710336",
     "status": "completed"
    },
    "tags": []
   },
   "outputs": [],
   "source": [
    "# Simple Imputer with median strategy to deal with null values in acceptance_delay\n",
    "cols_log = ['acceptance_delay']\n",
    "imputer_log = SimpleImputer(strategy = 'median')\n",
    "train_iterimp = imputer_log.fit_transform(df[cols_log])\n",
    "test_iterimp = imputer_log.transform(df_test[cols_log])\n",
    "train_iterimp = pd.DataFrame(train_iterimp,columns = cols_log)\n",
    "test_iterimp = pd.DataFrame(test_iterimp,columns = cols_log)\n",
    "df = df.drop(cols_log, axis = 'columns')\n",
    "df = pd.concat([df,train_iterimp],axis = 'columns')\n",
    "df_test = df_test.drop(cols_log, axis = 'columns')\n",
    "df_test = pd.concat([df_test,test_iterimp],axis = 'columns')"
   ]
  },
  {
   "cell_type": "code",
   "execution_count": 29,
   "id": "b1ed9c3f",
   "metadata": {
    "execution": {
     "iopub.execute_input": "2022-02-10T20:35:03.247309Z",
     "iopub.status.busy": "2022-02-10T20:35:03.246518Z",
     "iopub.status.idle": "2022-02-10T20:35:03.451953Z",
     "shell.execute_reply": "2022-02-10T20:35:03.451348Z",
     "shell.execute_reply.started": "2022-02-10T17:06:39.353278Z"
    },
    "id": "y_TS07clpuIx",
    "papermill": {
     "duration": 0.270317,
     "end_time": "2022-02-10T20:35:03.452112",
     "exception": false,
     "start_time": "2022-02-10T20:35:03.181795",
     "status": "completed"
    },
    "tags": []
   },
   "outputs": [],
   "source": [
    "# Defined a function to define the part of the day when the followwing events took place\n",
    "def daypart(hour):\n",
    "    if hour in [6,7,8,9,10]:\n",
    "        return \"morning\"\n",
    "    elif hour in [14,11,12,13]:\n",
    "        return \"noon\"\n",
    "    elif hour in [15,16,17,18]:\n",
    "        return \"afternoon\"\n",
    "    else: return \"night\"\n",
    "dayparts = hours.apply(daypart)\n",
    "df['dayparts'] = dayparts\n",
    "dayparts_test = hours_test.apply(daypart)\n",
    "df_test['dayparts'] = dayparts_test"
   ]
  },
  {
   "cell_type": "code",
   "execution_count": 30,
   "id": "19fcf40d",
   "metadata": {
    "execution": {
     "iopub.execute_input": "2022-02-10T20:35:03.580003Z",
     "iopub.status.busy": "2022-02-10T20:35:03.579326Z",
     "iopub.status.idle": "2022-02-10T20:35:03.762012Z",
     "shell.execute_reply": "2022-02-10T20:35:03.761423Z",
     "shell.execute_reply.started": "2022-02-10T17:06:39.562402Z"
    },
    "id": "GxsV85PZpuIx",
    "papermill": {
     "duration": 0.249788,
     "end_time": "2022-02-10T20:35:03.762152",
     "exception": false,
     "start_time": "2022-02-10T20:35:03.512364",
     "status": "completed"
    },
    "tags": []
   },
   "outputs": [],
   "source": [
    "# Dropping some redundant features\n",
    "df = df.drop(['order_time','order_date','allot_time','accept_time'],axis = 'columns')\n",
    "df_test = df_test.drop(['order_time','order_date','allot_time','accept_time'],axis = 'columns')"
   ]
  },
  {
   "cell_type": "code",
   "execution_count": 31,
   "id": "a2b3717b",
   "metadata": {
    "execution": {
     "iopub.execute_input": "2022-02-10T20:35:03.885625Z",
     "iopub.status.busy": "2022-02-10T20:35:03.884816Z",
     "iopub.status.idle": "2022-02-10T20:35:03.886887Z",
     "shell.execute_reply": "2022-02-10T20:35:03.887398Z",
     "shell.execute_reply.started": "2022-02-10T17:06:39.755007Z"
    },
    "id": "6bcutLlIpuIy",
    "papermill": {
     "duration": 0.06802,
     "end_time": "2022-02-10T20:35:03.887570",
     "exception": false,
     "start_time": "2022-02-10T20:35:03.819550",
     "status": "completed"
    },
    "tags": []
   },
   "outputs": [],
   "source": [
    "# Useless Cell tbh \n",
    "useless_features = ['order_id','cancelled','kfold','stacking_kfold']\n",
    "useful_features = [f for f in df.columns if f not in useless_features]\n",
    "object_cols = ['reassignment_method','reassigned_order','first_ismore','last_ismore','not_accepted','undelivered_orders','month','day','is_weekend','hours','dayparts','date','combined_reassignment']\n",
    "non_numerical_cols = object_cols + useless_features\n",
    "numerical_cols = [c for c in df.columns if c not in non_numerical_cols ]"
   ]
  },
  {
   "cell_type": "code",
   "execution_count": 32,
   "id": "ffe4dde9",
   "metadata": {
    "execution": {
     "iopub.execute_input": "2022-02-10T20:35:04.005154Z",
     "iopub.status.busy": "2022-02-10T20:35:04.004444Z",
     "iopub.status.idle": "2022-02-10T20:35:04.250482Z",
     "shell.execute_reply": "2022-02-10T20:35:04.251151Z",
     "shell.execute_reply.started": "2022-02-10T17:06:39.763989Z"
    },
    "id": "lu5KCoWqdqkB",
    "papermill": {
     "duration": 0.306644,
     "end_time": "2022-02-10T20:35:04.251352",
     "exception": false,
     "start_time": "2022-02-10T20:35:03.944708",
     "status": "completed"
    },
    "tags": []
   },
   "outputs": [],
   "source": [
    "# Label Encoding using map function\n",
    "df['dayparts'] = df['dayparts'].map({'night':0,'morning':1,'noon':2,'afternoon':3})\n",
    "df_test['dayparts'] = df_test['dayparts'].map({'night':0,'morning':1,'noon':2,'afternoon':3})\n",
    "df['reassignment_method'] = df['reassignment_method'].map({'null':0,'auto':1,'manual':2})\n",
    "df_test['reassignment_method'] = df_test['reassignment_method'].map({'null':0,'auto':1,'manual':2})\n",
    "df['day'] = df['day'].map({'Monday':0,'Tuesday':1,'Wednesday':2,'Thursday':3,'Friday':4,'Saturday':5,'Sunday':6})\n",
    "df_test['day'] = df_test['day'].map({'Monday':0,'Tuesday':1,'Wednesday':2,'Thursday':3,'Friday':4,'Saturday':5,'Sunday':6})\n"
   ]
  },
  {
   "cell_type": "code",
   "execution_count": 33,
   "id": "f92e4460",
   "metadata": {
    "execution": {
     "iopub.execute_input": "2022-02-10T20:35:04.370341Z",
     "iopub.status.busy": "2022-02-10T20:35:04.369637Z",
     "iopub.status.idle": "2022-02-10T20:35:04.421562Z",
     "shell.execute_reply": "2022-02-10T20:35:04.420943Z",
     "shell.execute_reply.started": "2022-02-10T17:06:40.021093Z"
    },
    "id": "FXmZqsQSdqkC",
    "papermill": {
     "duration": 0.112211,
     "end_time": "2022-02-10T20:35:04.421703",
     "exception": false,
     "start_time": "2022-02-10T20:35:04.309492",
     "status": "completed"
    },
    "tags": []
   },
   "outputs": [],
   "source": [
    "# Changing dtypes\n",
    "df['undelivered_orders'] = df['undelivered_orders'].astype('int')\n",
    "df['reassigned_order'] = df['reassigned_order'].astype('int')\n",
    "df['undelivered_orders'] = df['undelivered_orders'].astype('int')\n",
    "df['day'] = df['day'].astype('int')\n",
    "df['dayparts'] = df['dayparts'].astype('int')\n",
    "df['reassignment_method'] = df['reassignment_method'].astype('int')\n",
    "\n",
    "df_test['undelivered_orders'] =df_test['undelivered_orders'].astype('int')\n",
    "df_test['reassigned_order'] = df_test['reassigned_order'].astype('int')\n",
    "df_test['undelivered_orders'] = df_test['undelivered_orders'].astype('int')\n",
    "df_test['day'] = df_test['day'].astype('int')\n",
    "df_test['dayparts'] = df_test['dayparts'].astype('int')\n",
    "df_test['reassignment_method'] = df_test['reassignment_method'].astype('int')"
   ]
  },
  {
   "cell_type": "code",
   "execution_count": 34,
   "id": "ccf5d6a3",
   "metadata": {
    "execution": {
     "iopub.execute_input": "2022-02-10T20:35:04.540805Z",
     "iopub.status.busy": "2022-02-10T20:35:04.540133Z",
     "iopub.status.idle": "2022-02-10T20:35:05.229371Z",
     "shell.execute_reply": "2022-02-10T20:35:05.229876Z",
     "shell.execute_reply.started": "2022-02-10T17:06:40.074004Z"
    },
    "id": "85JHdra9-kkU",
    "papermill": {
     "duration": 0.749628,
     "end_time": "2022-02-10T20:35:05.230062",
     "exception": false,
     "start_time": "2022-02-10T20:35:04.480434",
     "status": "completed"
    },
    "tags": []
   },
   "outputs": [],
   "source": [
    "# Binning the Last Mile Distance feature (idk how useful this was) \n",
    "def bin_last(x):\n",
    "    if x>0 and x<0.45:\n",
    "        return 0\n",
    "    elif x>=0.45 and x<0.9:\n",
    "        return 1\n",
    "    elif x>=0.9 and x<1.34:\n",
    "        return 2\n",
    "    elif x>= 1.34 and x<1.79:\n",
    "        return 3\n",
    "    elif x>=1.79 and x<2.24:\n",
    "        return 4\n",
    "    elif x>=2.24 and x<2.69:\n",
    "        return 5\n",
    "    elif x>=2.69 and x<2.52:\n",
    "        return 6\n",
    "    elif x>= 2.52and x<3.14:\n",
    "        return 7\n",
    "    elif x>=3.14 and x<3.59:\n",
    "        return 8\n",
    "    elif x>=3.59 and x<4.03:\n",
    "        return 9\n",
    "    elif x>= 4.03and x<4.48:\n",
    "        return 10\n",
    "    elif x>=4.48 and x<4.93:\n",
    "        return 11\n",
    "    elif x>=4.93 and x<5.38:\n",
    "        return 12\n",
    "    elif x>= 5.38and x<6.27:\n",
    "        return 13\n",
    "    else:\n",
    "        return 14\n",
    "df['bin_last'] = df['last_mile_distance'].apply(bin_last)\n",
    "def bin_last_test(x):\n",
    "    if x>0 and x<0.41:\n",
    "        return 0\n",
    "    elif x>=0.41 and x<0.83:\n",
    "        return 1\n",
    "    elif x>=0.83 and x<1.24:\n",
    "        return 2\n",
    "    elif x>= 1.24 and x<1.65:\n",
    "        return 3\n",
    "    elif x>=1.65 and x<2.07:\n",
    "        return 4\n",
    "    elif x>=2.07 and x<2.48:\n",
    "        return 5\n",
    "    elif x>=2.48 and x<2.90:\n",
    "        return 6\n",
    "    elif x>= 2.90 and x<3.31:\n",
    "        return 7\n",
    "    elif x>=3.31 and x<3.72:\n",
    "        return 8\n",
    "    elif x>=3.72 and x<4.14:\n",
    "        return 9\n",
    "    elif x>= 4.14 and x<4.55:\n",
    "        return 10\n",
    "    elif x>=4.55 and x<4.96:\n",
    "        return 11\n",
    "    elif x>=4.93 and x<5.38:\n",
    "        return 12\n",
    "    elif x>= 5.38and x<5.79:\n",
    "        return 13\n",
    "    else:\n",
    "        return 14\n",
    "df_test['bin_last'] = df_test['last_mile_distance'].apply(bin_last_test)"
   ]
  },
  {
   "cell_type": "markdown",
   "id": "d8cfb14b",
   "metadata": {
    "papermill": {
     "duration": 0.056347,
     "end_time": "2022-02-10T20:35:05.344008",
     "exception": false,
     "start_time": "2022-02-10T20:35:05.287661",
     "status": "completed"
    },
    "tags": []
   },
   "source": [
    "# The Magical Feature Engineering Step"
   ]
  },
  {
   "cell_type": "markdown",
   "id": "06adbace",
   "metadata": {
    "papermill": {
     "duration": 0.05957,
     "end_time": "2022-02-10T20:35:05.460080",
     "exception": false,
     "start_time": "2022-02-10T20:35:05.400510",
     "status": "completed"
    },
    "tags": []
   },
   "source": [
    " ##### Here I submitted all features created by the method because I had just one submission left and didnt wanna risk it. The main score improving features were: 'undelivered_orders_mean'(MAINNNNNNNNNNN), 'last_mile_distance_min','first_mile_distance_min','lifetime_order_count_null_sum','lifetime_order_count_null_mean' (based on correlation with target feature done in separate notebook)"
   ]
  },
  {
   "cell_type": "code",
   "execution_count": 35,
   "id": "9723d099",
   "metadata": {
    "execution": {
     "iopub.execute_input": "2022-02-10T20:35:05.578988Z",
     "iopub.status.busy": "2022-02-10T20:35:05.578276Z",
     "iopub.status.idle": "2022-02-10T20:35:05.673366Z",
     "shell.execute_reply": "2022-02-10T20:35:05.672777Z",
     "shell.execute_reply.started": "2022-02-10T17:06:40.751273Z"
    },
    "papermill": {
     "duration": 0.155685,
     "end_time": "2022-02-10T20:35:05.673519",
     "exception": false,
     "start_time": "2022-02-10T20:35:05.517834",
     "status": "completed"
    },
    "tags": []
   },
   "outputs": [],
   "source": [
    "numeric_cols = [   \n",
    "'rider_id',                       \n",
    "'first_mile_distance',            \n",
    "'last_mile_distance',            \n",
    "'lifetime_order_count',           \n",
    "'alloted_orders',                 \n",
    "'delivered_orders',               \n",
    "'session_time','total_distance','acceptance_delay','allotment_delay'\n",
    "]\n",
    "categorical_cols = [\n",
    "'rider_id',                      \n",
    "'undelivered_orders',                      \n",
    "'reassignment_method',           \n",
    "'reassignment_reason',            \n",
    "'reassigned_order',              \n",
    "'day',                            \n",
    "'hours',                          \n",
    "'dayparts',                      \n",
    "'lifetime_order_count_null','ad_neg','is_weekend','bin_last']\n",
    "\n",
    "numeric_df = df[numeric_cols]\n",
    "categorical = df[categorical_cols]\n",
    "numeric_df_test = df_test[numeric_cols]\n",
    "categorical_test = df_test[categorical_cols]"
   ]
  },
  {
   "cell_type": "code",
   "execution_count": 36,
   "id": "8b4426c3",
   "metadata": {
    "execution": {
     "iopub.execute_input": "2022-02-10T20:35:05.795185Z",
     "iopub.status.busy": "2022-02-10T20:35:05.794443Z",
     "iopub.status.idle": "2022-02-10T20:35:06.908980Z",
     "shell.execute_reply": "2022-02-10T20:35:06.908290Z",
     "shell.execute_reply.started": "2022-02-10T17:06:40.840052Z"
    },
    "papermill": {
     "duration": 1.178491,
     "end_time": "2022-02-10T20:35:06.909131",
     "exception": false,
     "start_time": "2022-02-10T20:35:05.730640",
     "status": "completed"
    },
    "tags": []
   },
   "outputs": [],
   "source": [
    "agg = numeric_df.groupby('rider_id').agg(['count', 'mean', 'max', 'min', 'sum']).reset_index()\n",
    "agg.columns = ['rider_id','first_mile_distance_count','first_mile_distance_mean','first_mile_distance_max','first_mile_distance_min','first_mile_distance_sum',\n",
    "               'last_mile_distance_count','last_mile_distance_mean','last_mile_distance_max','last_mile_distance_min','last_mile_distance_sum',\n",
    "               'lifetime_order_count_count','lifetime_order_count_mean','lifetime_order_count_max','lifetime_order_count_min','lifetime_order_count_sum',\n",
    "               'alloted_orders_count','alloted_orders_mean','alloted_orders_max','alloted_orders_min','alloted_orders_sum',\n",
    "               'delivered_orders_count','delivered_orders_mean','delivered_orders_max','delivered_orders_min','delivered_orders_sum',\n",
    "               'session_time_count','session_time_mean','session_time_max','session_time_min','session_time_sum',\n",
    "               'total_distance_count','total_distance_mean','total_distance_max','total_distance_min','total_distance_sum',\n",
    "               'acceptance_delay_count','acceptance_delay_mean','acceptance_delay_max','acceptance_delay_min','acceptance_delay_sum',\n",
    "               'allotment_delay_count','allotment_delay_mean','allotment_delay_max','allotment_delay_min','allotment_delay_sum'\n",
    "              ]\n",
    "df = df.merge(agg,how = 'left', on = 'rider_id')"
   ]
  },
  {
   "cell_type": "code",
   "execution_count": 37,
   "id": "dc91f55d",
   "metadata": {
    "execution": {
     "iopub.execute_input": "2022-02-10T20:35:07.038696Z",
     "iopub.status.busy": "2022-02-10T20:35:07.037628Z",
     "iopub.status.idle": "2022-02-10T20:35:07.293681Z",
     "shell.execute_reply": "2022-02-10T20:35:07.292938Z",
     "shell.execute_reply.started": "2022-02-10T17:06:41.891169Z"
    },
    "papermill": {
     "duration": 0.327056,
     "end_time": "2022-02-10T20:35:07.293826",
     "exception": false,
     "start_time": "2022-02-10T20:35:06.966770",
     "status": "completed"
    },
    "tags": []
   },
   "outputs": [],
   "source": [
    "agg = numeric_df_test.groupby('rider_id').agg(['count', 'mean', 'max', 'min', 'sum']).reset_index()\n",
    "agg.columns = ['rider_id','first_mile_distance_count','first_mile_distance_mean','first_mile_distance_max','first_mile_distance_min','first_mile_distance_sum',\n",
    "               'last_mile_distance_count','last_mile_distance_mean','last_mile_distance_max','last_mile_distance_min','last_mile_distance_sum',\n",
    "               'lifetime_order_count_count','lifetime_order_count_mean','lifetime_order_count_max','lifetime_order_count_min','lifetime_order_count_sum',\n",
    "               'alloted_orders_count','alloted_orders_mean','alloted_orders_max','alloted_orders_min','alloted_orders_sum',\n",
    "               'delivered_orders_count','delivered_orders_mean','delivered_orders_max','delivered_orders_min','delivered_orders_sum',\n",
    "               'session_time_count','session_time_mean','session_time_max','session_time_min','session_time_sum',\n",
    "               'total_distance_count','total_distance_mean','total_distance_max','total_distance_min','total_distance_sum',\n",
    "               'acceptance_delay_count','acceptance_delay_mean','acceptance_delay_max','acceptance_delay_min','acceptance_delay_sum',\n",
    "               'allotment_delay_count','allotment_delay_mean','allotment_delay_max','allotment_delay_min','allotment_delay_sum'\n",
    "              ]\n",
    "df_test = df_test.merge(agg,how = 'left', on = 'rider_id')"
   ]
  },
  {
   "cell_type": "code",
   "execution_count": 38,
   "id": "c31099ac",
   "metadata": {
    "execution": {
     "iopub.execute_input": "2022-02-10T20:35:07.428972Z",
     "iopub.status.busy": "2022-02-10T20:35:07.427884Z",
     "iopub.status.idle": "2022-02-10T20:35:08.191184Z",
     "shell.execute_reply": "2022-02-10T20:35:08.190113Z",
     "shell.execute_reply.started": "2022-02-10T17:06:42.219831Z"
    },
    "papermill": {
     "duration": 0.839254,
     "end_time": "2022-02-10T20:35:08.191344",
     "exception": false,
     "start_time": "2022-02-10T20:35:07.352090",
     "status": "completed"
    },
    "tags": []
   },
   "outputs": [],
   "source": [
    "cat = categorical.groupby('rider_id').agg(['sum', 'mean'])\n",
    "cat.columns = ['rider_id'\n",
    "              'undelivered_orders_sum','undelivered_orders_mean',\n",
    "               'reassignment_method_sum','reassignment_method_mean',\n",
    "               'reassignment_reason_sum','reassignment_reason_mean',\n",
    "              'reassigned_order_sum','reassigned_order_mean',\n",
    "              'day_sum','day_mean',\n",
    "              'hours_sum','hours_mean',\n",
    "              'dayparts_sum','dayparts_mean',\n",
    "              'lifetime_order_count_null_sum','lifetime_order_count_null_mean',\n",
    "              'ad_neg_sum','ad_neg_mean','is_weekend_sum','is_weekend_mean','bin_last_sum','bin_last_mean']\n",
    "df = df.merge(cat,how = 'left', on = 'rider_id')"
   ]
  },
  {
   "cell_type": "code",
   "execution_count": 39,
   "id": "b404067c",
   "metadata": {
    "execution": {
     "iopub.execute_input": "2022-02-10T20:35:08.322772Z",
     "iopub.status.busy": "2022-02-10T20:35:08.321648Z",
     "iopub.status.idle": "2022-02-10T20:35:08.495505Z",
     "shell.execute_reply": "2022-02-10T20:35:08.494890Z",
     "shell.execute_reply.started": "2022-02-10T17:06:43.041873Z"
    },
    "papermill": {
     "duration": 0.245891,
     "end_time": "2022-02-10T20:35:08.495654",
     "exception": false,
     "start_time": "2022-02-10T20:35:08.249763",
     "status": "completed"
    },
    "tags": []
   },
   "outputs": [],
   "source": [
    "cat = categorical_test.groupby('rider_id').agg(['sum', 'mean'])\n",
    "cat.columns = ['rider_id'\n",
    "              'undelivered_orders_sum','undelivered_orders_mean',\n",
    "               'reassignment_method_sum','reassignment_method_mean',\n",
    "               'reassignment_reason_sum','reassignment_reason_mean',\n",
    "              'reassigned_order_sum','reassigned_order_mean',\n",
    "              'day_sum','day_mean',\n",
    "              'hours_sum','hours_mean',\n",
    "              'dayparts_sum','dayparts_mean',\n",
    "              'lifetime_order_count_null_sum','lifetime_order_count_null_mean',\n",
    "              'ad_neg_sum','ad_neg_mean','is_weekend_sum','is_weekend_mean','bin_last_sum','bin_last_mean']\n",
    "df_test = df_test.merge(cat,how = 'left', on = 'rider_id')"
   ]
  },
  {
   "cell_type": "code",
   "execution_count": 40,
   "id": "9ce49066",
   "metadata": {
    "execution": {
     "iopub.execute_input": "2022-02-10T20:35:08.615478Z",
     "iopub.status.busy": "2022-02-10T20:35:08.613437Z",
     "iopub.status.idle": "2022-02-10T20:35:08.618678Z",
     "shell.execute_reply": "2022-02-10T20:35:08.618035Z",
     "shell.execute_reply.started": "2022-02-10T17:06:43.2207Z"
    },
    "papermill": {
     "duration": 0.065842,
     "end_time": "2022-02-10T20:35:08.618820",
     "exception": false,
     "start_time": "2022-02-10T20:35:08.552978",
     "status": "completed"
    },
    "tags": []
   },
   "outputs": [],
   "source": [
    "# agg = df[['rider_id','last_mile_distance','first_mile_distance','total_distance']].groupby('rider_id').agg('min').reset_index()\n",
    "# df = df.merge(agg,on = 'rider_id',how = 'left')\n",
    "# cat = df[['rider_id','undelivered_orders']].groupby('rider_id').agg('mean').reset_index()\n",
    "# df = df.merge(cat,on = 'rider_id',how = 'left')\n",
    "# cat_new = df[['rider_id','lifetime_order_count_null']].groupby('rider_id').agg(['sum','mean']).reset_index()\n",
    "# cat_new.columns = ['rider_id','lifeime_order_count_null_sum','lifetime_order_count_null_mean']\n",
    "# df = df.merge(cat_new,on = 'rider_id',how = 'left')\n",
    "# agg = df_test[['rider_id','last_mile_distance','first_mile_distance','total_distance']].groupby('rider_id').agg('min').reset_index()\n",
    "# df_test = df_test.merge(agg,on = 'rider_id',how = 'left')\n",
    "# cat = df_test[['rider_id','undelivered_orders']].groupby('rider_id').agg('mean').reset_index()\n",
    "# df_test = df_test.merge(cat,on = 'rider_id',how = 'left')\n",
    "# cat_new = df_test[['rider_id','lifetime_order_count_null']].groupby('rider_id').agg(['sum','mean']).reset_index()\n",
    "# cat_new.columns = ['rider_id','lifeime_order_count_null_sum','lifetime_order_count_null_mean']\n",
    "# df_test = df_test.merge(cat_new,on = 'rider_id',how = 'left')"
   ]
  },
  {
   "cell_type": "code",
   "execution_count": 41,
   "id": "d225b34b",
   "metadata": {
    "execution": {
     "iopub.execute_input": "2022-02-10T20:35:08.740809Z",
     "iopub.status.busy": "2022-02-10T20:35:08.740138Z",
     "iopub.status.idle": "2022-02-10T20:35:08.743412Z",
     "shell.execute_reply": "2022-02-10T20:35:08.742794Z",
     "shell.execute_reply.started": "2022-02-10T17:06:43.297854Z"
    },
    "id": "iaIkT7CIvuyd",
    "papermill": {
     "duration": 0.066407,
     "end_time": "2022-02-10T20:35:08.743552",
     "exception": false,
     "start_time": "2022-02-10T20:35:08.677145",
     "status": "completed"
    },
    "tags": []
   },
   "outputs": [],
   "source": [
    "# Undersampling because the training data is large and imbalanced. Tried normally and with oversampling too.\n",
    "undersample = RandomUnderSampler(sampling_strategy = 0.5,random_state = 42)"
   ]
  },
  {
   "cell_type": "code",
   "execution_count": 42,
   "id": "69d026d6",
   "metadata": {
    "execution": {
     "iopub.execute_input": "2022-02-10T20:35:08.866154Z",
     "iopub.status.busy": "2022-02-10T20:35:08.865104Z",
     "iopub.status.idle": "2022-02-10T20:35:08.868086Z",
     "shell.execute_reply": "2022-02-10T20:35:08.867534Z",
     "shell.execute_reply.started": "2022-02-10T17:08:08.220033Z"
    },
    "id": "zG9a5xBldqkD",
    "outputId": "e542e47b-efc8-428a-f159-019dd89bc83c",
    "papermill": {
     "duration": 0.065738,
     "end_time": "2022-02-10T20:35:08.868236",
     "exception": false,
     "start_time": "2022-02-10T20:35:08.802498",
     "status": "completed"
    },
    "tags": []
   },
   "outputs": [],
   "source": [
    "# Used this cell to test various models\n",
    "\n",
    "\n",
    "# final_predictions = []\n",
    "# for fold in range(5):\n",
    "#     xtrain =  df[df.kfold != fold].reset_index(drop=True)\n",
    "#     xvalid = df[df.kfold == fold].reset_index(drop=True)\n",
    "#     xtest = df_test.copy()\n",
    "#     useless_features = ['order_id','cancelled','kfold','stacking_kfold']\n",
    "#     useful_features = [f for f in df.columns if f not in useless_features]\n",
    "    \n",
    "\n",
    "\n",
    "#     ytrain = xtrain['cancelled']\n",
    "#     yvalid = xvalid['cancelled']\n",
    "    \n",
    "#     useless_features = ['order_id','cancelled','kfold','stacking_kfold']\n",
    "#     useful_features = [f for f in xtrain.columns if f not in useless_features]\n",
    "#     useful_features_valid = [f for f in xvalid.columns if f not in useless_features]\n",
    "#     xtrain = xtrain[useful_features]\n",
    "#     xvalid = xvalid[useful_features_valid]\n",
    "    \n",
    "#     useless_features = ['order_id','cancelled','kfold','stacking_kfold']\n",
    "#     useful_features = [f for f in df_test.columns if f not in useless_features]\n",
    "    \n",
    "#     xtest = xtest[useful_features]\n",
    "        \n",
    "#     xtrain,ytrain = undersample.fit_resample(xtrain,ytrain)\n",
    "    \n",
    "#     model = lgb.LGBMClassifier()\n",
    "\n",
    "#     model.fit(xtrain, ytrain)\n",
    "#     #     model = LogisticRegression()\n",
    "#     #     model.fit(xtrain,ytrain)\n",
    "#     preds_valid = model.predict_proba(xvalid)\n",
    "#     test_preds = model.predict_proba(xtest)[:,1]\n",
    "#     final_predictions.append(test_preds)\n",
    "#     #     perm_importance = permutation_importance(model,xvalid,yvalid)\n",
    "#     #     pd.DataFrame(model.get_fscore().items(), columns=['feature','importance']).sort_values('importance', ascending=False)\n",
    "#     print(model.feature_importances_)\n",
    "#     plt.figure(figsize = (10,10))\n",
    "#     plt.barh(useful_features,model.feature_importances_)\n",
    "#     #     print(model.get_booster().get_fscore(importance_type=\"gain\"))\n",
    "#     print(fold, roc_auc_score(yvalid, preds_valid[:,1]))\n",
    "# # import eli5\n",
    "# # from eli5.sklearn import PermutationImportance\n",
    "# # perm = PermutationImportance(model, random_state=1).fit(xvalid,yvalid)\n",
    "# # eli5.show_weights(perm, feature_names = xtrain.columns.tolist())"
   ]
  },
  {
   "cell_type": "markdown",
   "id": "e9eecaf7",
   "metadata": {
    "papermill": {
     "duration": 0.058214,
     "end_time": "2022-02-10T20:35:08.984297",
     "exception": false,
     "start_time": "2022-02-10T20:35:08.926083",
     "status": "completed"
    },
    "tags": []
   },
   "source": [
    "# Model Stacking"
   ]
  },
  {
   "cell_type": "code",
   "execution_count": 43,
   "id": "47469832",
   "metadata": {
    "execution": {
     "iopub.execute_input": "2022-02-10T20:35:09.113096Z",
     "iopub.status.busy": "2022-02-10T20:35:09.112344Z",
     "iopub.status.idle": "2022-02-10T20:39:42.537301Z",
     "shell.execute_reply": "2022-02-10T20:39:42.538064Z",
     "shell.execute_reply.started": "2022-02-10T17:09:03.67933Z"
    },
    "id": "5rq_8FVgdqkD",
    "outputId": "f8014de8-457b-41d4-8680-67b4d4c3a13d",
    "papermill": {
     "duration": 273.495631,
     "end_time": "2022-02-10T20:39:42.538532",
     "exception": false,
     "start_time": "2022-02-10T20:35:09.042901",
     "status": "completed"
    },
    "tags": []
   },
   "outputs": [],
   "source": [
    "final_test_predictions_1 = []\n",
    "final_valid_predictions_1 = {}\n",
    "final_test_predictions_2 = []\n",
    "final_valid_predictions_2 = {}\n",
    "final_test_predictions_3 = []\n",
    "final_valid_predictions_3 = {}\n",
    "final_test_predictions_4 = []\n",
    "final_valid_predictions_4 = {}\n",
    "final_test_predictions_5 = []\n",
    "final_valid_predictions_5 = {}\n",
    "final_test_predictions_6 = []\n",
    "final_valid_predictions_6 = {}\n",
    "for fold in range(5):\n",
    "    xtrain =  df[df.kfold != fold].reset_index(drop=True)\n",
    "    xvalid = df[df.kfold == fold].reset_index(drop=True)\n",
    "    xtest = df_test.copy()\n",
    "    \n",
    "    valid_ids = xvalid['order_id'].values.tolist()\n",
    "    \n",
    "    useless_features = ['order_id','cancelled','kfold','stacking_kfold']\n",
    "    useful_features = [f for f in df.columns if f not in useless_features]\n",
    "\n",
    "\n",
    "    ytrain = xtrain['cancelled']\n",
    "    yvalid = xvalid['cancelled']\n",
    "    \n",
    "    useless_features = ['order_id','cancelled','kfold','stacking_kfold']\n",
    "    useful_features = [f for f in xtrain.columns if f not in useless_features]\n",
    "    useful_features_valid = [f for f in xvalid.columns if f not in useless_features]\n",
    "    xtrain = xtrain[useful_features]\n",
    "    xvalid = xvalid[useful_features_valid]\n",
    "    \n",
    "    useless_features = ['order_id','cancelled','kfold','stacking_kfold']\n",
    "    useful_features = [f for f in df_test.columns if f not in useless_features]\n",
    "    xtest = xtest[useful_features]\n",
    "    \n",
    "    \n",
    "    xtrain,ytrain = undersample.fit_resample(xtrain,ytrain)\n",
    "\n",
    "    \n",
    "    model_1 = ensemble.RandomForestClassifier()\n",
    "        \n",
    "    model_1.fit(xtrain, ytrain)\n",
    "    preds_valid_1 = model_1.predict_proba(xvalid)[:,1]\n",
    "    test_preds_1 = model_1.predict_proba(xtest)[:,1]\n",
    "    final_test_predictions_1.append(test_preds_1)\n",
    "    final_valid_predictions_1.update(dict(zip(valid_ids, preds_valid_1)))\n",
    "\n",
    "    model_2 = lgb.LGBMClassifier()\n",
    "\n",
    "        \n",
    "    model_2.fit(xtrain,ytrain)\n",
    "    preds_valid_2 = model_2.predict_proba(xvalid)[:,1]\n",
    "    test_preds_2 = model_2.predict_proba(xtest)[:,1]\n",
    "    final_test_predictions_2.append(test_preds_2)\n",
    "    final_valid_predictions_2.update(dict(zip(valid_ids, preds_valid_2)))\n",
    "\n",
    "    model_3 = cb.CatBoostClassifier()\n",
    "\n",
    "        \n",
    "    model_3.fit(xtrain, ytrain, verbose=False)\n",
    "    preds_valid_3 = model_3.predict_proba(xvalid)[:,1]\n",
    "    test_preds_3 = model_3.predict_proba(xtest)[:,1]\n",
    "    final_test_predictions_3.append(test_preds_3)\n",
    "    final_valid_predictions_3.update(dict(zip(valid_ids, preds_valid_3)))\n",
    "    \n",
    "    model_4 = ensemble.GradientBoostingClassifier()\n",
    "        \n",
    "    model_4.fit(xtrain, ytrain)\n",
    "    preds_valid_4 = model_4.predict_proba(xvalid)[:,1]\n",
    "    test_preds_4 = model_4.predict_proba(xtest)[:,1]\n",
    "    final_test_predictions_4.append(test_preds_4)\n",
    "    final_valid_predictions_4.update(dict(zip(valid_ids, preds_valid_4)))\n",
    "    \n",
    "#     model_5 = ensemble.AdaBoostClassifier()\n",
    "    \n",
    "#     model_5.fit(xtrain, ytrain)\n",
    "#     preds_valid_5 = model_5.predict_proba(xvalid)[:,1]\n",
    "#     test_preds_5 = model_5.predict_proba(xtest)[:,1]\n",
    "#     final_test_predictions_5.append(test_preds_5)\n",
    "#     final_valid_predictions_5.update(dict(zip(valid_ids, preds_valid_5)))\n",
    "    \n",
    "#     model_6 = XGBClassifier()\n",
    "    \n",
    "#     model_6.fit(xtrain, ytrain)\n",
    "#     preds_valid_6 = model_6.predict_proba(xvalid)[:,1]\n",
    "#     test_preds_6 = model_6.predict_proba(xtest)[:,1]\n",
    "#     final_test_predictions_6.append(test_preds_6)\n",
    "#     final_valid_predictions_6.update(dict(zip(valid_ids, preds_valid_6)))\n"
   ]
  },
  {
   "cell_type": "code",
   "execution_count": 44,
   "id": "e39dba1f",
   "metadata": {
    "execution": {
     "iopub.execute_input": "2022-02-10T20:39:42.687024Z",
     "iopub.status.busy": "2022-02-10T20:39:42.678703Z",
     "iopub.status.idle": "2022-02-10T20:39:49.576085Z",
     "shell.execute_reply": "2022-02-10T20:39:49.575320Z",
     "shell.execute_reply.started": "2022-02-10T17:13:35.022652Z"
    },
    "id": "Fzw6f3-Ih552",
    "papermill": {
     "duration": 6.976218,
     "end_time": "2022-02-10T20:39:49.576304",
     "exception": false,
     "start_time": "2022-02-10T20:39:42.600086",
     "status": "completed"
    },
    "tags": []
   },
   "outputs": [],
   "source": [
    "final_valid_predictions_1 = pd.DataFrame.from_dict(final_valid_predictions_1, orient=\"index\").reset_index()\n",
    "final_valid_predictions_1.columns = [\"order_id\", \"pred_1\"]\n",
    "df = df.merge(final_valid_predictions_1, on = 'order_id', how = 'left')\n",
    "\n",
    "final_valid_predictions_2 = pd.DataFrame.from_dict(final_valid_predictions_2, orient=\"index\").reset_index()\n",
    "final_valid_predictions_2.columns = [\"order_id\", \"pred_2\"]\n",
    "df = df.merge(final_valid_predictions_2, on = 'order_id', how = 'left')\n",
    "\n",
    "final_valid_predictions_3 = pd.DataFrame.from_dict(final_valid_predictions_3, orient=\"index\").reset_index()\n",
    "final_valid_predictions_3.columns = [\"order_id\", \"pred_3\"]\n",
    "df = df.merge(final_valid_predictions_3, on = 'order_id', how = 'left')\n",
    "\n",
    "final_valid_predictions_4 = pd.DataFrame.from_dict(final_valid_predictions_4, orient=\"index\").reset_index()\n",
    "final_valid_predictions_4.columns = [\"order_id\", \"pred_4\"]\n",
    "df = df.merge(final_valid_predictions_4, on = 'order_id', how = 'left')\n",
    "\n",
    "# final_valid_predictions_5 = pd.DataFrame.from_dict(final_valid_predictions_5, orient=\"index\").reset_index()\n",
    "# final_valid_predictions_5.columns = [\"order_id\", \"pred_5\"]\n",
    "# df = df.merge(final_valid_predictions_5, on = 'order_id', how = 'left')\n",
    "\n",
    "# final_valid_predictions_6 = pd.DataFrame.from_dict(final_valid_predictions_6, orient=\"index\").reset_index()\n",
    "# final_valid_predictions_6.columns = [\"order_id\", \"pred_6\"]\n",
    "# df = df.merge(final_valid_predictions_6, on = 'order_id', how = 'left')\n",
    "\n",
    "\n",
    "sample_submission = pd.read_csv('../input/cascade-cup-22/sample_submission.csv')\n",
    "sample_submission['cancelled'] = np.mean(np.column_stack(final_test_predictions_1), axis=1)\n",
    "sample_submission.columns = [\"order_id\", \"pred_1\"]\n",
    "df_test = df_test.merge(sample_submission, on = 'order_id', how = 'left')\n",
    "\n",
    "sample_submission = pd.read_csv('../input/cascade-cup-22/sample_submission.csv')\n",
    "sample_submission['cancelled'] = np.mean(np.column_stack(final_test_predictions_2), axis=1)\n",
    "sample_submission.columns = [\"order_id\", \"pred_2\"]\n",
    "df_test = df_test.merge(sample_submission, on = 'order_id', how = 'left')\n",
    "\n",
    "sample_submission = pd.read_csv('../input/cascade-cup-22/sample_submission.csv')\n",
    "sample_submission['cancelled'] = np.mean(np.column_stack(final_test_predictions_3), axis=1)\n",
    "sample_submission.columns = [\"order_id\", \"pred_3\"]\n",
    "df_test = df_test.merge(sample_submission, on = 'order_id', how = 'left')\n",
    "\n",
    "sample_submission = pd.read_csv('../input/cascade-cup-22/sample_submission.csv')\n",
    "sample_submission['cancelled'] = np.mean(np.column_stack(final_test_predictions_4), axis=1)\n",
    "sample_submission.columns = [\"order_id\", \"pred_4\"]\n",
    "df_test = df_test.merge(sample_submission, on = 'order_id', how = 'left')\n",
    "\n",
    "# sample_submission = pd.read_csv('../input/cascade-cup-22/sample_submission.csv')\n",
    "# sample_submission['cancelled'] = np.mean(np.column_stack(final_test_predictions_5), axis=1)\n",
    "# sample_submission.columns = [\"order_id\", \"pred_5\"]\n",
    "# df_test = df_test.merge(sample_submission, on = 'order_id', how = 'left')\n",
    "\n",
    "# sample_submission = pd.read_csv('../input/cascade-cup-22/sample_submission.csv')\n",
    "# sample_submission['cancelled'] = np.mean(np.column_stack(final_test_predictions_6), axis=1)\n",
    "# sample_submission.columns = [\"order_id\", \"pred_6\"]\n",
    "# df_test = df_test.merge(sample_submission, on = 'order_id', how = 'left')"
   ]
  },
  {
   "cell_type": "code",
   "execution_count": 45,
   "id": "2680455c",
   "metadata": {
    "execution": {
     "iopub.execute_input": "2022-02-10T20:39:49.702909Z",
     "iopub.status.busy": "2022-02-10T20:39:49.701836Z",
     "iopub.status.idle": "2022-02-10T20:39:56.275725Z",
     "shell.execute_reply": "2022-02-10T20:39:56.277452Z",
     "shell.execute_reply.started": "2022-02-10T17:13:41.82956Z"
    },
    "papermill": {
     "duration": 6.642571,
     "end_time": "2022-02-10T20:39:56.277760",
     "exception": false,
     "start_time": "2022-02-10T20:39:49.635189",
     "status": "completed"
    },
    "tags": []
   },
   "outputs": [
    {
     "name": "stdout",
     "output_type": "stream",
     "text": [
      "0 0.927230012160421\n",
      "1 0.922131596194617\n",
      "2 0.9177904949004881\n",
      "3 0.9286708039740342\n",
      "4 0.9244195309265643\n"
     ]
    }
   ],
   "source": [
    "useful_features = [\"pred_1\", \"pred_2\",'pred_3','pred_4']\n",
    "df_test = df_test[useful_features]\n",
    "\n",
    "final_predictions = []\n",
    "scores = []\n",
    "for fold in range(5):\n",
    "    xtrain =  df[df['stacking_kfold'] != fold].reset_index(drop=True)\n",
    "    xvalid = df[df['stacking_kfold'] == fold].reset_index(drop=True)\n",
    "    xtest = df_test.copy()\n",
    "\n",
    "\n",
    "    ytrain = xtrain['cancelled']\n",
    "\n",
    "    yvalid = xvalid['cancelled']\n",
    "    \n",
    "    xtrain = xtrain[useful_features]\n",
    "    xvalid = xvalid[useful_features]\n",
    "    \n",
    "    model = LogisticRegression()\n",
    "    model.fit(xtrain, ytrain)\n",
    "    \n",
    "    preds_valid = model.predict_proba(xvalid)[:,1]\n",
    "    test_preds = model.predict_proba(xtest)[:,1]\n",
    "    final_predictions.append(test_preds)\n",
    "    print(fold, roc_auc_score(yvalid, preds_valid))"
   ]
  },
  {
   "cell_type": "markdown",
   "id": "ea86fb56",
   "metadata": {
    "papermill": {
     "duration": 0.059312,
     "end_time": "2022-02-10T20:39:56.422124",
     "exception": false,
     "start_time": "2022-02-10T20:39:56.362812",
     "status": "completed"
    },
    "tags": []
   },
   "source": [
    "# Submission"
   ]
  },
  {
   "cell_type": "code",
   "execution_count": 46,
   "id": "c5565f49",
   "metadata": {
    "execution": {
     "iopub.execute_input": "2022-02-10T20:39:56.546121Z",
     "iopub.status.busy": "2022-02-10T20:39:56.544925Z",
     "iopub.status.idle": "2022-02-10T20:39:56.554259Z",
     "shell.execute_reply": "2022-02-10T20:39:56.553488Z",
     "shell.execute_reply.started": "2022-02-10T17:15:10.803773Z"
    },
    "id": "fVIuGw8NpuIz",
    "papermill": {
     "duration": 0.073544,
     "end_time": "2022-02-10T20:39:56.554412",
     "exception": false,
     "start_time": "2022-02-10T20:39:56.480868",
     "status": "completed"
    },
    "tags": []
   },
   "outputs": [],
   "source": [
    "preds = np.mean(np.column_stack(final_predictions), axis=1)"
   ]
  },
  {
   "cell_type": "code",
   "execution_count": 47,
   "id": "ee688951",
   "metadata": {
    "execution": {
     "iopub.execute_input": "2022-02-10T20:39:56.679875Z",
     "iopub.status.busy": "2022-02-10T20:39:56.679191Z",
     "iopub.status.idle": "2022-02-10T20:39:56.713826Z",
     "shell.execute_reply": "2022-02-10T20:39:56.713033Z",
     "shell.execute_reply.started": "2022-02-10T17:15:13.097924Z"
    },
    "id": "2nX36uQcVvoS",
    "papermill": {
     "duration": 0.098675,
     "end_time": "2022-02-10T20:39:56.713999",
     "exception": false,
     "start_time": "2022-02-10T20:39:56.615324",
     "status": "completed"
    },
    "tags": []
   },
   "outputs": [],
   "source": [
    "sample_submission = pd.read_csv(\"../input/cascade-cup-22/sample_submission.csv\")"
   ]
  },
  {
   "cell_type": "code",
   "execution_count": 48,
   "id": "84bb02f1",
   "metadata": {
    "execution": {
     "iopub.execute_input": "2022-02-10T20:39:56.843886Z",
     "iopub.status.busy": "2022-02-10T20:39:56.840355Z",
     "iopub.status.idle": "2022-02-10T20:39:56.846589Z",
     "shell.execute_reply": "2022-02-10T20:39:56.847194Z",
     "shell.execute_reply.started": "2022-02-10T17:15:15.055172Z"
    },
    "id": "mhIz97gipuIz",
    "outputId": "2bb3f9b3-eaa9-4b84-8ddb-4b5663937990",
    "papermill": {
     "duration": 0.074706,
     "end_time": "2022-02-10T20:39:56.847378",
     "exception": false,
     "start_time": "2022-02-10T20:39:56.772672",
     "status": "completed"
    },
    "tags": []
   },
   "outputs": [
    {
     "data": {
      "text/plain": [
       "array([0.03351001, 0.00169538, 0.00112861, ..., 0.00124905, 0.00245646,\n",
       "       0.00179993])"
      ]
     },
     "execution_count": 48,
     "metadata": {},
     "output_type": "execute_result"
    }
   ],
   "source": [
    "preds"
   ]
  },
  {
   "cell_type": "code",
   "execution_count": 49,
   "id": "29853c8b",
   "metadata": {
    "execution": {
     "iopub.execute_input": "2022-02-10T20:39:56.973208Z",
     "iopub.status.busy": "2022-02-10T20:39:56.970922Z",
     "iopub.status.idle": "2022-02-10T20:39:57.503193Z",
     "shell.execute_reply": "2022-02-10T20:39:57.503677Z",
     "shell.execute_reply.started": "2022-02-10T17:15:17.099244Z"
    },
    "id": "x-iq_AHOpuIz",
    "outputId": "4c43df77-ffb2-4a08-badf-a8e58b4f9da5",
    "papermill": {
     "duration": 0.596124,
     "end_time": "2022-02-10T20:39:57.503878",
     "exception": false,
     "start_time": "2022-02-10T20:39:56.907754",
     "status": "completed"
    },
    "tags": []
   },
   "outputs": [],
   "source": [
    "sample_submission['cancelled'] = preds\n",
    "sample_submission.to_csv(\"submission.csv\", index=False)"
   ]
  },
  {
   "cell_type": "code",
   "execution_count": 50,
   "id": "da593ecc",
   "metadata": {
    "execution": {
     "iopub.execute_input": "2022-02-10T20:39:57.629614Z",
     "iopub.status.busy": "2022-02-10T20:39:57.628907Z",
     "iopub.status.idle": "2022-02-10T20:39:57.649041Z",
     "shell.execute_reply": "2022-02-10T20:39:57.648403Z",
     "shell.execute_reply.started": "2022-02-10T17:06:56.416883Z"
    },
    "id": "lKpC_EQ-puIz",
    "papermill": {
     "duration": 0.083697,
     "end_time": "2022-02-10T20:39:57.649188",
     "exception": false,
     "start_time": "2022-02-10T20:39:57.565491",
     "status": "completed"
    },
    "tags": []
   },
   "outputs": [
    {
     "data": {
      "text/html": [
       "<div>\n",
       "<style scoped>\n",
       "    .dataframe tbody tr th:only-of-type {\n",
       "        vertical-align: middle;\n",
       "    }\n",
       "\n",
       "    .dataframe tbody tr th {\n",
       "        vertical-align: top;\n",
       "    }\n",
       "\n",
       "    .dataframe thead th {\n",
       "        text-align: right;\n",
       "    }\n",
       "</style>\n",
       "<table border=\"1\" class=\"dataframe\">\n",
       "  <thead>\n",
       "    <tr style=\"text-align: right;\">\n",
       "      <th></th>\n",
       "      <th>order_id</th>\n",
       "      <th>cancelled</th>\n",
       "    </tr>\n",
       "  </thead>\n",
       "  <tbody>\n",
       "    <tr>\n",
       "      <th>0</th>\n",
       "      <td>130231</td>\n",
       "      <td>0.033510</td>\n",
       "    </tr>\n",
       "    <tr>\n",
       "      <th>1</th>\n",
       "      <td>130232</td>\n",
       "      <td>0.001695</td>\n",
       "    </tr>\n",
       "    <tr>\n",
       "      <th>2</th>\n",
       "      <td>130233</td>\n",
       "      <td>0.001129</td>\n",
       "    </tr>\n",
       "    <tr>\n",
       "      <th>3</th>\n",
       "      <td>130234</td>\n",
       "      <td>0.002523</td>\n",
       "    </tr>\n",
       "    <tr>\n",
       "      <th>4</th>\n",
       "      <td>130235</td>\n",
       "      <td>0.000893</td>\n",
       "    </tr>\n",
       "    <tr>\n",
       "      <th>...</th>\n",
       "      <td>...</td>\n",
       "      <td>...</td>\n",
       "    </tr>\n",
       "    <tr>\n",
       "      <th>144839</th>\n",
       "      <td>41184</td>\n",
       "      <td>0.001199</td>\n",
       "    </tr>\n",
       "    <tr>\n",
       "      <th>144840</th>\n",
       "      <td>41185</td>\n",
       "      <td>0.002485</td>\n",
       "    </tr>\n",
       "    <tr>\n",
       "      <th>144841</th>\n",
       "      <td>41186</td>\n",
       "      <td>0.001249</td>\n",
       "    </tr>\n",
       "    <tr>\n",
       "      <th>144842</th>\n",
       "      <td>41187</td>\n",
       "      <td>0.002456</td>\n",
       "    </tr>\n",
       "    <tr>\n",
       "      <th>144843</th>\n",
       "      <td>41188</td>\n",
       "      <td>0.001800</td>\n",
       "    </tr>\n",
       "  </tbody>\n",
       "</table>\n",
       "<p>144844 rows × 2 columns</p>\n",
       "</div>"
      ],
      "text/plain": [
       "        order_id  cancelled\n",
       "0         130231   0.033510\n",
       "1         130232   0.001695\n",
       "2         130233   0.001129\n",
       "3         130234   0.002523\n",
       "4         130235   0.000893\n",
       "...          ...        ...\n",
       "144839     41184   0.001199\n",
       "144840     41185   0.002485\n",
       "144841     41186   0.001249\n",
       "144842     41187   0.002456\n",
       "144843     41188   0.001800\n",
       "\n",
       "[144844 rows x 2 columns]"
      ]
     },
     "execution_count": 50,
     "metadata": {},
     "output_type": "execute_result"
    }
   ],
   "source": [
    "sample_submission"
   ]
  }
 ],
 "metadata": {
  "kernelspec": {
   "display_name": "Python 3",
   "language": "python",
   "name": "python3"
  },
  "language_info": {
   "codemirror_mode": {
    "name": "ipython",
    "version": 3
   },
   "file_extension": ".py",
   "mimetype": "text/x-python",
   "name": "python",
   "nbconvert_exporter": "python",
   "pygments_lexer": "ipython3",
   "version": "3.7.12"
  },
  "papermill": {
   "default_parameters": {},
   "duration": 483.552378,
   "end_time": "2022-02-10T20:39:59.125471",
   "environment_variables": {},
   "exception": null,
   "input_path": "__notebook__.ipynb",
   "output_path": "__notebook__.ipynb",
   "parameters": {},
   "start_time": "2022-02-10T20:31:55.573093",
   "version": "2.3.3"
  }
 },
 "nbformat": 4,
 "nbformat_minor": 5
}
